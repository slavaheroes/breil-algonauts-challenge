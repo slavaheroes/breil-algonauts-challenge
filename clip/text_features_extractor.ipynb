{
 "cells": [
  {
   "cell_type": "code",
   "execution_count": 1,
   "id": "e80004c0-4fc9-4986-8ee5-5738ea53f110",
   "metadata": {},
   "outputs": [
    {
     "name": "stderr",
     "output_type": "stream",
     "text": [
      "/home/slava/.conda/envs/algonauts/lib/python3.9/site-packages/tqdm/auto.py:21: TqdmWarning: IProgress not found. Please update jupyter and ipywidgets. See https://ipywidgets.readthedocs.io/en/stable/user_install.html\n",
      "  from .autonotebook import tqdm as notebook_tqdm\n"
     ]
    }
   ],
   "source": [
    "import pandas as pd\n",
    "import json\n",
    "from collections import defaultdict\n",
    "from scipy.io import loadmat\n",
    "import numpy as np\n",
    "import os\n",
    "from PIL import Image\n",
    "import matplotlib.pyplot as plt\n",
    "from tqdm import tqdm\n",
    "import clip\n",
    "import torch\n",
    "\n",
    "nsd_stiminfo_file = '/SSD/slava/algonauts/algonauts_2023_challenge_data/nsd_stim_info_merged.pkl'\n",
    "stiminfo = pd.read_pickle(nsd_stiminfo_file)\n",
    "\n",
    "exp_design_file = \"/SSD/slava/algonauts/algonauts_2023_challenge_data/nsd_expdesign.mat\"\n",
    "exp_design = loadmat(exp_design_file)\n",
    "\n",
    "device = \"cuda\" if torch.cuda.is_available() else \"cpu\"\n",
    "model, preprocess = clip.load(\"ViT-B/32\", device=device)"
   ]
  },
  {
   "cell_type": "code",
   "execution_count": 2,
   "id": "31604426-947e-4126-83f9-2b34f446b1c0",
   "metadata": {},
   "outputs": [
    {
     "data": {
      "text/plain": [
       "(8, 100000)"
      ]
     },
     "execution_count": 2,
     "metadata": {},
     "output_type": "execute_result"
    }
   ],
   "source": [
    "subject_idx  = exp_design['subjectim']\n",
    "\n",
    "cocoId_arr = np.zeros(shape=(8, 100000), dtype=int)\n",
    "\n",
    "for j in range(len(subject_idx)):\n",
    "    cocoId = np.array(stiminfo['cocoId'])[stiminfo['subject%d'%(j+1)].astype(bool)]\n",
    "    nsdId = np.array(stiminfo['nsdId'])[stiminfo['subject%d'%(j+1)].astype(bool)]\n",
    "    assert cocoId.shape == nsdId.shape\n",
    "    for i in range(nsdId.shape[0]):\n",
    "        cocoId_arr[j, nsdId[i]] = cocoId[i]\n",
    "    \n",
    "cocoId_arr.shape"
   ]
  },
  {
   "cell_type": "code",
   "execution_count": 3,
   "id": "49b01eb7-5baa-46a6-88a2-914e50e807ee",
   "metadata": {},
   "outputs": [],
   "source": [
    "annotations = \"/SSD/slava/algonauts/algonauts_2023_challenge_data/annotations/captions_train2017.json\"\n",
    "dataset = json.load(open(annotations, 'r'))\n",
    "\n",
    "imgIdToAnns = defaultdict(list)\n",
    "\n",
    "if 'annotations' in dataset:\n",
    "    for ann in dataset['annotations']:\n",
    "        imgIdToAnns[ann['image_id']].append(ann)\n",
    "\n",
    "annotation_val = \"/SSD/slava/algonauts/algonauts_2023_challenge_data/annotations/captions_val2017.json\"\n",
    "dataset = dict()\n",
    "dataset = json.load(open(annotation_val, 'r'))\n",
    "\n",
    "if 'annotations' in dataset:\n",
    "    for ann in dataset['annotations']:\n",
    "        imgIdToAnns[ann['image_id']].append(ann)"
   ]
  },
  {
   "cell_type": "code",
   "execution_count": 4,
   "id": "82de8692-4517-4174-b353-8c66bde5dba7",
   "metadata": {},
   "outputs": [
    {
     "name": "stderr",
     "output_type": "stream",
     "text": [
      "/SSD/slava/algonauts/algonauts_2023_challenge_data/subj01/training_split/training_images/: 100%|████████████████████████████████████████████████████████████████████████| 9841/9841 [01:52<00:00, 87.78it/s]\n",
      "/SSD/slava/algonauts/algonauts_2023_challenge_data/subj01/test_split/test_images/: 100%|██████████████████████████████████████████████████████████████████████████████████| 159/159 [00:01<00:00, 84.21it/s]\n",
      "/SSD/slava/algonauts/algonauts_2023_challenge_data/subj02/training_split/training_images/: 100%|████████████████████████████████████████████████████████████████████████| 9841/9841 [02:00<00:00, 81.95it/s]\n",
      "/SSD/slava/algonauts/algonauts_2023_challenge_data/subj02/test_split/test_images/: 100%|██████████████████████████████████████████████████████████████████████████████████| 159/159 [00:01<00:00, 81.09it/s]\n",
      "/SSD/slava/algonauts/algonauts_2023_challenge_data/subj03/training_split/training_images/: 100%|████████████████████████████████████████████████████████████████████████| 9082/9082 [01:52<00:00, 80.52it/s]\n",
      "/SSD/slava/algonauts/algonauts_2023_challenge_data/subj03/test_split/test_images/: 100%|██████████████████████████████████████████████████████████████████████████████████| 293/293 [00:03<00:00, 80.20it/s]\n",
      "/SSD/slava/algonauts/algonauts_2023_challenge_data/subj04/training_split/training_images/: 100%|████████████████████████████████████████████████████████████████████████| 8779/8779 [02:47<00:00, 52.30it/s]\n",
      "/SSD/slava/algonauts/algonauts_2023_challenge_data/subj04/test_split/test_images/: 100%|██████████████████████████████████████████████████████████████████████████████████| 395/395 [00:08<00:00, 44.56it/s]\n",
      "/SSD/slava/algonauts/algonauts_2023_challenge_data/subj05/training_split/training_images/: 100%|████████████████████████████████████████████████████████████████████████| 9841/9841 [03:21<00:00, 48.93it/s]\n",
      "/SSD/slava/algonauts/algonauts_2023_challenge_data/subj05/test_split/test_images/: 100%|██████████████████████████████████████████████████████████████████████████████████| 159/159 [00:04<00:00, 37.97it/s]\n",
      "/SSD/slava/algonauts/algonauts_2023_challenge_data/subj06/training_split/training_images/: 100%|████████████████████████████████████████████████████████████████████████| 9082/9082 [03:07<00:00, 48.34it/s]\n",
      "/SSD/slava/algonauts/algonauts_2023_challenge_data/subj06/test_split/test_images/: 100%|██████████████████████████████████████████████████████████████████████████████████| 293/293 [00:06<00:00, 47.80it/s]\n",
      "/SSD/slava/algonauts/algonauts_2023_challenge_data/subj07/training_split/training_images/: 100%|████████████████████████████████████████████████████████████████████████| 9841/9841 [03:28<00:00, 47.24it/s]\n",
      "/SSD/slava/algonauts/algonauts_2023_challenge_data/subj07/test_split/test_images/: 100%|██████████████████████████████████████████████████████████████████████████████████| 159/159 [00:02<00:00, 57.47it/s]\n",
      "/SSD/slava/algonauts/algonauts_2023_challenge_data/subj08/training_split/training_images/: 100%|████████████████████████████████████████████████████████████████████████| 8779/8779 [03:07<00:00, 46.87it/s]\n",
      "/SSD/slava/algonauts/algonauts_2023_challenge_data/subj08/test_split/test_images/: 100%|██████████████████████████████████████████████████████████████████████████████████| 395/395 [00:10<00:00, 39.18it/s]\n"
     ]
    }
   ],
   "source": [
    "img_dir = \"/SSD/slava/algonauts/algonauts_2023_challenge_data/subj01/test_split/test_images/\"\n",
    "save_dir = \"/SSD/slava/algonauts/clip_text_features/\"\n",
    "cocoId = np.array(stiminfo['cocoId'])\n",
    "\n",
    "\n",
    "for subj_idx in range(1, 9):\n",
    "    img_dir_train = f'/SSD/slava/algonauts/algonauts_2023_challenge_data/subj0{subj_idx}/training_split/training_images/'\n",
    "    img_dir_test = f'/SSD/slava/algonauts/algonauts_2023_challenge_data/subj0{subj_idx}/test_split/test_images/'\n",
    "\n",
    "    for img_dir in [img_dir_train, img_dir_test]:\n",
    "\n",
    "        subj_save_dir = os.path.join(save_dir, 'subj'+format(subj_idx, '02'))\n",
    "        os.makedirs(subj_save_dir, exist_ok=True)\n",
    "\n",
    "        if 'train' in img_dir:\n",
    "            feat_save_dir = os.path.join(subj_save_dir, 'train_features')\n",
    "        else:\n",
    "            feat_save_dir = os.path.join(subj_save_dir, 'test_features')\n",
    "\n",
    "        os.makedirs(feat_save_dir, exist_ok=True)\n",
    "        \n",
    "        for img_name in tqdm(sorted(os.listdir(img_dir)), desc=img_dir):\n",
    "            img_path = os.path.join(img_dir, img_name)\n",
    "        \n",
    "            nsd_id = img_name.split(\"-\")[-1].replace(\".png\", \"\")\n",
    "            coco_id = cocoId[int(nsd_id)]\n",
    "            \n",
    "            captions = imgIdToAnns[coco_id]\n",
    "            captions = [x['caption'] for x in captions]\n",
    "    \n",
    "            with torch.no_grad():\n",
    "                text = clip.tokenize(captions).to(device)\n",
    "                text_features = model.encode_text(text)\n",
    "            text_features = text_features.mean(dim=0).cpu().squeeze().detach().numpy()\n",
    "\n",
    "            # print(os.path.join(feat_save_dir, img_name.replace(\".png\", \".npy\")))\n",
    "            with open(\n",
    "                os.path.join(feat_save_dir, img_name.replace(\".png\", \".npy\")), 'wb'\n",
    "            ) as f:\n",
    "                np.save(f, text_features)\n",
    " "
   ]
  },
  {
   "cell_type": "code",
   "execution_count": null,
   "id": "ffadf109-6c24-4a1e-9350-0ab805ad5e98",
   "metadata": {},
   "outputs": [],
   "source": []
  }
 ],
 "metadata": {
  "kernelspec": {
   "display_name": "Python 3 (ipykernel)",
   "language": "python",
   "name": "python3"
  },
  "language_info": {
   "codemirror_mode": {
    "name": "ipython",
    "version": 3
   },
   "file_extension": ".py",
   "mimetype": "text/x-python",
   "name": "python",
   "nbconvert_exporter": "python",
   "pygments_lexer": "ipython3",
   "version": "3.9.16"
  }
 },
 "nbformat": 4,
 "nbformat_minor": 5
}
