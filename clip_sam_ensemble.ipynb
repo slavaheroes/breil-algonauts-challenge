{
 "cells": [
  {
   "cell_type": "code",
   "execution_count": 1,
   "id": "f5c9de6d-2287-4c49-aaa6-426e760c1f70",
   "metadata": {},
   "outputs": [
    {
     "data": {
      "text/plain": [
       "('/SSD/slava/algonauts/algonauts_2023_challenge_submission_clip/subj01/',\n",
       " '/SSD/slava/algonauts/algonauts_2023_challenge_submission_clip_textonly/subj01/',\n",
       " '/SSD/slava/algonauts/algonauts_2023_challenge_submission_sam_extended_kernel16/subj01/')"
      ]
     },
     "execution_count": 1,
     "metadata": {},
     "output_type": "execute_result"
    }
   ],
   "source": [
    "import os\n",
    "import glob\n",
    "import numpy as np\n",
    "import einops\n",
    "\n",
    "\n",
    "clip_img_preds = sorted(glob.glob(\"/SSD/slava/algonauts/algonauts_2023_challenge_submission_clip/*/\"))\n",
    "clip_txt_preds = sorted(glob.glob(\"/SSD/slava/algonauts/algonauts_2023_challenge_submission_clip_textonly/*/\"))\n",
    "\n",
    "clip_preds = sorted(glob.glob(\"/SSD/slava/algonauts/algonauts_2023_challenge_submission_clip_text_n_image/*/\"))\n",
    "sam_preds = sorted(glob.glob(\"/SSD/slava/algonauts/algonauts_2023_challenge_submission_sam_extended_kernel16/*/\"))\n",
    "\n",
    "data_dir = \"/SSD/slava/algonauts/algonauts_2023_challenge_data/\"\n",
    "save_dir = \"/SSD/slava/algonauts/algonauts_2023_challenge_submission_clip_w_text_sam_roi\"\n",
    "\n",
    "clip_img_preds[0], clip_txt_preds[0], sam_preds[0]"
   ]
  },
  {
   "cell_type": "code",
   "execution_count": 2,
   "id": "f3f6dd01-a1bc-46b0-a702-2d7a00813732",
   "metadata": {},
   "outputs": [],
   "source": [
    "best_ids_dict = {'V1v': 2,\n",
    " 'V1d': 2,\n",
    " 'V2v': 2,\n",
    " 'V2d': 2,\n",
    " 'V3v': 2,\n",
    " 'V3d': 2,\n",
    " 'hV4': 2,\n",
    " 'EBA': 0,\n",
    " 'FBA-1': 0,\n",
    " 'FBA-2': 0,\n",
    " 'OFA': 0,\n",
    " 'FFA-1': 0,\n",
    " 'FFA-2': 0,\n",
    " 'OPA': 0,\n",
    " 'PPA': 0,\n",
    " 'RSC': 0,\n",
    " 'OWFA': 0,\n",
    " 'VWFA-1': 0,\n",
    " 'VWFA-2': 1,\n",
    " 'mfs-words': 0,\n",
    " 'mTL-words': 2,\n",
    " 'early': 2,\n",
    " 'midventral': 2,\n",
    " 'midlateral': 0,\n",
    " 'midparietal': 2,\n",
    " 'ventral': 0,\n",
    " 'lateral': 0,\n",
    " 'parietal': 0}"
   ]
  },
  {
   "cell_type": "code",
   "execution_count": 3,
   "id": "cac684bd-6cf9-495a-9dc6-ab6662b2acde",
   "metadata": {},
   "outputs": [],
   "source": [
    "rois = [\"V1v\", \"V1d\", \"V2v\", \"V2d\", \"V3v\", \"V3d\", \"hV4\", \"EBA\", \"FBA-1\", \"FBA-2\", \"mTL-bodies\", \"OFA\", \"FFA-1\", \"FFA-2\", \"mTL-faces\", \"aTL-faces\", \"OPA\", \"PPA\", \"RSC\", \"OWFA\", \"VWFA-1\", \"VWFA-2\", \"mfs-words\", \"mTL-words\", \"early\", \"midventral\", \"midlateral\", \"midparietal\", \"ventral\", \"lateral\", \"parietal\"]\n",
    "\n",
    "def get_roi_class(roi):\n",
    "    if roi in [\"V1v\", \"V1d\", \"V2v\", \"V2d\", \"V3v\", \"V3d\", \"hV4\"]:\n",
    "        roi_class = 'prf-visualrois'\n",
    "    elif roi in [\"EBA\", \"FBA-1\", \"FBA-2\", \"mTL-bodies\"]:\n",
    "        roi_class = 'floc-bodies'\n",
    "    elif roi in [\"OFA\", \"FFA-1\", \"FFA-2\", \"mTL-faces\", \"aTL-faces\"]:\n",
    "        roi_class = 'floc-faces'\n",
    "    elif roi in [\"OPA\", \"PPA\", \"RSC\"]:\n",
    "        roi_class = 'floc-places'\n",
    "    elif roi in [\"OWFA\", \"VWFA-1\", \"VWFA-2\", \"mfs-words\", \"mTL-words\"]:\n",
    "        roi_class = 'floc-words'\n",
    "    elif roi in [\"early\", \"midventral\", \"midlateral\", \"midparietal\", \"ventral\", \"lateral\", \"parietal\"]:\n",
    "        roi_class = 'streams'\n",
    "\n",
    "    return roi_class"
   ]
  },
  {
   "cell_type": "code",
   "execution_count": 4,
   "id": "12c65cc6-e65f-4ac7-8f21-faee2641b7ee",
   "metadata": {},
   "outputs": [
    {
     "name": "stdout",
     "output_type": "stream",
     "text": [
      "1\n",
      "2\n",
      "3\n",
      "4\n",
      "5\n",
      "6\n",
      "7\n",
      "8\n"
     ]
    }
   ],
   "source": [
    "def read_load(path):\n",
    "    f = open(path, 'rb')\n",
    "    data = np.load(f)\n",
    "    return data\n",
    "\n",
    "def write_save(data, path):\n",
    "    f = open(path, 'wb')\n",
    "    np.save(f, data)\n",
    "    \n",
    "\n",
    "for idx, (clip_img_path, clip_txt_path, sam_path, clip_path) in enumerate(zip(clip_img_preds, clip_txt_preds, sam_preds, clip_preds)):\n",
    "    # for rh and lh\n",
    "    for part in os.listdir(clip_img_path):\n",
    "        clip_img_pred = os.path.join(clip_img_path, part)\n",
    "        clip_txt_pred = os.path.join(clip_txt_path, part)\n",
    "        clip_pred = os.path.join(clip_path, part)\n",
    "        sam_pred = os.path.join(sam_path, part)\n",
    "\n",
    "        clip_img_pred = read_load(clip_img_pred)\n",
    "        clip_txt_pred = read_load(clip_txt_pred)\n",
    "        clip_pred = read_load(clip_pred)\n",
    "        sam_pred = read_load(sam_pred)\n",
    "        hemisphere = part[0]\n",
    "\n",
    "        ensemble_pred = (clip_pred + sam_pred)/2\n",
    "\n",
    "        for roi in rois:\n",
    "            if roi not in best_ids_dict:\n",
    "                continue\n",
    "            \n",
    "            roi_class = get_roi_class(roi)\n",
    "            \n",
    "            # Load the ROI brain surface maps\n",
    "            challenge_roi_class_dir = os.path.join(data_dir, f'subj0{idx+1}', 'roi_masks',\n",
    "                hemisphere[0]+'h.'+roi_class+'_challenge_space.npy')\n",
    "            \n",
    "            roi_map_dir = os.path.join(data_dir, f'subj0{idx+1}', 'roi_masks',\n",
    "                'mapping_'+roi_class+'.npy')\n",
    "            challenge_roi_class = np.load(challenge_roi_class_dir)\n",
    "            roi_map = np.load(roi_map_dir, allow_pickle=True).item()\n",
    "            \n",
    "            # Select the vertices corresponding to the ROI of interest\n",
    "            roi_mapping = list(roi_map.keys())[list(roi_map.values()).index(roi)]\n",
    "            challenge_roi = np.asarray(challenge_roi_class == roi_mapping, dtype=int)\n",
    "            \n",
    "            challenge_roi = einops.repeat(challenge_roi, 'h -> n h', n=ensemble_pred.shape[0])\n",
    "\n",
    "            best_id = best_ids_dict[roi]\n",
    "            \n",
    "            if best_id==0:\n",
    "                best_pred = clip_img_pred\n",
    "            elif best_id==1:\n",
    "                best_pred = clip_txt_pred\n",
    "            elif best_id==2:\n",
    "                best_pred = sam_pred\n",
    "                \n",
    "            \n",
    "            ensemble_pred = ((1-challenge_roi)*ensemble_pred) + (best_pred * challenge_roi)\n",
    "            assert abs(challenge_roi.sum() - ((best_pred * challenge_roi) == ensemble_pred).sum())<10, \\\n",
    "                f'{roi} {challenge_roi.sum(), ((best_pred * challenge_roi) == ensemble_pred).sum()}'\n",
    "\n",
    "        os.makedirs(f'{save_dir}/subj0{idx+1}', exist_ok=True)\n",
    "        write_save(np.float32(ensemble_pred), \n",
    "                  f'{save_dir}/subj0{idx+1}/{part}')\n",
    "\n",
    "    print(idx+1)\n",
    "\n"
   ]
  },
  {
   "cell_type": "code",
   "execution_count": 5,
   "id": "90acc207-db91-42fe-a659-4602458e87a3",
   "metadata": {},
   "outputs": [
    {
     "data": {
      "text/plain": [
       "['/SSD/slava/algonauts/algonauts_2023_challenge_submission_clip_w_text_sam_roi/subj04/rh_pred_test.npy',\n",
       " '/SSD/slava/algonauts/algonauts_2023_challenge_submission_clip_w_text_sam_roi/subj04/lh_pred_test.npy',\n",
       " '/SSD/slava/algonauts/algonauts_2023_challenge_submission_clip_w_text_sam_roi/subj05/rh_pred_test.npy',\n",
       " '/SSD/slava/algonauts/algonauts_2023_challenge_submission_clip_w_text_sam_roi/subj05/lh_pred_test.npy',\n",
       " '/SSD/slava/algonauts/algonauts_2023_challenge_submission_clip_w_text_sam_roi/subj08/rh_pred_test.npy',\n",
       " '/SSD/slava/algonauts/algonauts_2023_challenge_submission_clip_w_text_sam_roi/subj08/lh_pred_test.npy',\n",
       " '/SSD/slava/algonauts/algonauts_2023_challenge_submission_clip_w_text_sam_roi/subj01/rh_pred_test.npy',\n",
       " '/SSD/slava/algonauts/algonauts_2023_challenge_submission_clip_w_text_sam_roi/subj01/lh_pred_test.npy',\n",
       " '/SSD/slava/algonauts/algonauts_2023_challenge_submission_clip_w_text_sam_roi/subj03/rh_pred_test.npy',\n",
       " '/SSD/slava/algonauts/algonauts_2023_challenge_submission_clip_w_text_sam_roi/subj03/lh_pred_test.npy',\n",
       " '/SSD/slava/algonauts/algonauts_2023_challenge_submission_clip_w_text_sam_roi/subj07/rh_pred_test.npy',\n",
       " '/SSD/slava/algonauts/algonauts_2023_challenge_submission_clip_w_text_sam_roi/subj07/lh_pred_test.npy',\n",
       " '/SSD/slava/algonauts/algonauts_2023_challenge_submission_clip_w_text_sam_roi/subj06/rh_pred_test.npy',\n",
       " '/SSD/slava/algonauts/algonauts_2023_challenge_submission_clip_w_text_sam_roi/subj06/lh_pred_test.npy',\n",
       " '/SSD/slava/algonauts/algonauts_2023_challenge_submission_clip_w_text_sam_roi/subj02/rh_pred_test.npy',\n",
       " '/SSD/slava/algonauts/algonauts_2023_challenge_submission_clip_w_text_sam_roi/subj02/lh_pred_test.npy']"
      ]
     },
     "execution_count": 5,
     "metadata": {},
     "output_type": "execute_result"
    }
   ],
   "source": [
    "glob.glob(save_dir + \"/*/*npy\")"
   ]
  },
  {
   "cell_type": "code",
   "execution_count": null,
   "id": "c344da2b-6283-42b6-a2d4-54bb55a2255b",
   "metadata": {},
   "outputs": [],
   "source": []
  }
 ],
 "metadata": {
  "kernelspec": {
   "display_name": "Python 3 (ipykernel)",
   "language": "python",
   "name": "python3"
  },
  "language_info": {
   "codemirror_mode": {
    "name": "ipython",
    "version": 3
   },
   "file_extension": ".py",
   "mimetype": "text/x-python",
   "name": "python",
   "nbconvert_exporter": "python",
   "pygments_lexer": "ipython3",
   "version": "3.9.16"
  }
 },
 "nbformat": 4,
 "nbformat_minor": 5
}
