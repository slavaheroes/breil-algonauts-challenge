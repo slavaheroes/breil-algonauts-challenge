{
 "cells": [
  {
   "cell_type": "code",
   "execution_count": 1,
   "id": "f5c9de6d-2287-4c49-aaa6-426e760c1f70",
   "metadata": {},
   "outputs": [],
   "source": [
    "import os\n",
    "import glob\n",
    "import numpy as np\n",
    "\n",
    "clip_preds = sorted(glob.glob(\"/SSD/slava/algonauts/algonauts_2023_challenge_submission_clip/*/\"))\n",
    "sam_preds = sorted(glob.glob(\"/SSD/slava/algonauts/algonauts_2023_challenge_submission_sam_extended/*/\"))\n",
    "\n",
    "save_dir = \"/SSD/slava/algonauts/algonauts_2023_challenge_submission_clip_sam_05\"\n",
    "\n",
    "# clip_preds[:4], sam_preds[:4]"
   ]
  },
  {
   "cell_type": "code",
   "execution_count": 2,
   "id": "12c65cc6-e65f-4ac7-8f21-faee2641b7ee",
   "metadata": {},
   "outputs": [],
   "source": [
    "def read_load(path):\n",
    "    f = open(path, 'rb')\n",
    "    data = np.load(f)\n",
    "    return data\n",
    "\n",
    "def write_save(data, path):\n",
    "    f = open(path, 'wb')\n",
    "    np.save(f, data)\n",
    "    \n",
    "\n",
    "for idx, (clip_path, sam_path) in enumerate(zip(clip_preds, sam_preds)):\n",
    "    # for rh and lh\n",
    "    for part in os.listdir(clip_path):\n",
    "        clip_pred = os.path.join(clip_path, part)\n",
    "        sam_pred = os.path.join(sam_path, part)\n",
    "\n",
    "        clip_pred = read_load(clip_pred)\n",
    "        sam_pred = read_load(sam_pred)\n",
    "\n",
    "        ensemble_pred = (clip_pred + sam_pred)/2\n",
    "\n",
    "        os.makedirs(f'{save_dir}/subj0{idx+1}', exist_ok=True)\n",
    "        write_save(ensemble_pred, \n",
    "                  f'{save_dir}/subj0{idx+1}/{part}')\n"
   ]
  },
  {
   "cell_type": "code",
   "execution_count": 3,
   "id": "90acc207-db91-42fe-a659-4602458e87a3",
   "metadata": {},
   "outputs": [
    {
     "data": {
      "text/plain": [
       "['/SSD/slava/algonauts/algonauts_2023_challenge_submission_clip_sam_05/subj04/rh_pred_test.npy',\n",
       " '/SSD/slava/algonauts/algonauts_2023_challenge_submission_clip_sam_05/subj04/lh_pred_test.npy',\n",
       " '/SSD/slava/algonauts/algonauts_2023_challenge_submission_clip_sam_05/subj05/rh_pred_test.npy',\n",
       " '/SSD/slava/algonauts/algonauts_2023_challenge_submission_clip_sam_05/subj05/lh_pred_test.npy',\n",
       " '/SSD/slava/algonauts/algonauts_2023_challenge_submission_clip_sam_05/subj08/rh_pred_test.npy',\n",
       " '/SSD/slava/algonauts/algonauts_2023_challenge_submission_clip_sam_05/subj08/lh_pred_test.npy',\n",
       " '/SSD/slava/algonauts/algonauts_2023_challenge_submission_clip_sam_05/subj01/rh_pred_test.npy',\n",
       " '/SSD/slava/algonauts/algonauts_2023_challenge_submission_clip_sam_05/subj01/lh_pred_test.npy',\n",
       " '/SSD/slava/algonauts/algonauts_2023_challenge_submission_clip_sam_05/subj03/rh_pred_test.npy',\n",
       " '/SSD/slava/algonauts/algonauts_2023_challenge_submission_clip_sam_05/subj03/lh_pred_test.npy',\n",
       " '/SSD/slava/algonauts/algonauts_2023_challenge_submission_clip_sam_05/subj07/rh_pred_test.npy',\n",
       " '/SSD/slava/algonauts/algonauts_2023_challenge_submission_clip_sam_05/subj07/lh_pred_test.npy',\n",
       " '/SSD/slava/algonauts/algonauts_2023_challenge_submission_clip_sam_05/subj06/rh_pred_test.npy',\n",
       " '/SSD/slava/algonauts/algonauts_2023_challenge_submission_clip_sam_05/subj06/lh_pred_test.npy',\n",
       " '/SSD/slava/algonauts/algonauts_2023_challenge_submission_clip_sam_05/subj02/rh_pred_test.npy',\n",
       " '/SSD/slava/algonauts/algonauts_2023_challenge_submission_clip_sam_05/subj02/lh_pred_test.npy']"
      ]
     },
     "execution_count": 3,
     "metadata": {},
     "output_type": "execute_result"
    }
   ],
   "source": [
    "glob.glob(save_dir + \"/*/*npy\")"
   ]
  },
  {
   "cell_type": "code",
   "execution_count": null,
   "id": "c344da2b-6283-42b6-a2d4-54bb55a2255b",
   "metadata": {},
   "outputs": [],
   "source": []
  }
 ],
 "metadata": {
  "kernelspec": {
   "display_name": "Python 3 (ipykernel)",
   "language": "python",
   "name": "python3"
  },
  "language_info": {
   "codemirror_mode": {
    "name": "ipython",
    "version": 3
   },
   "file_extension": ".py",
   "mimetype": "text/x-python",
   "name": "python",
   "nbconvert_exporter": "python",
   "pygments_lexer": "ipython3",
   "version": "3.9.16"
  }
 },
 "nbformat": 4,
 "nbformat_minor": 5
}
