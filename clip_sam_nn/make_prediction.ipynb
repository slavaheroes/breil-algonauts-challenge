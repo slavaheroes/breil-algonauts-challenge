{
 "cells": [
  {
   "cell_type": "code",
   "execution_count": 1,
   "id": "9febeff0-4834-4f77-9cfb-f36a9a186b01",
   "metadata": {},
   "outputs": [
    {
     "name": "stderr",
     "output_type": "stream",
     "text": [
      "/home/slava/.conda/envs/algonauts/lib/python3.9/site-packages/tqdm/auto.py:21: TqdmWarning: IProgress not found. Please update jupyter and ipywidgets. See https://ipywidgets.readthedocs.io/en/stable/user_install.html\n",
      "  from .autonotebook import tqdm as notebook_tqdm\n"
     ]
    }
   ],
   "source": [
    "import argparse\n",
    "import yaml\n",
    "import importlib\n",
    "import utils\n",
    "import os\n",
    "from tqdm import tqdm\n",
    "import numpy as np\n",
    "\n",
    "import torch\n",
    "from torch.utils.data import DataLoader\n",
    "\n",
    "import pytorch_lightning as pl\n",
    "from pytorch_lightning.callbacks import EarlyStopping, ModelCheckpoint, LearningRateMonitor\n",
    "from pytorch_lightning.loggers import WandbLogger\n",
    "\n",
    "from dataset import Features_to_fMRI_Dataset\n",
    "\n",
    "from models import MappingNetwork\n",
    "from pl_trainer import VanillaTrainer\n",
    "from loss import mse_cos_loss"
   ]
  },
  {
   "cell_type": "code",
   "execution_count": 2,
   "id": "9d0c56ae-9f5d-40d8-b410-811f476048fc",
   "metadata": {},
   "outputs": [
    {
     "name": "stdout",
     "output_type": "stream",
     "text": [
      "Seed is set.\n"
     ]
    }
   ],
   "source": [
    "seed = 42\n",
    "\n",
    "utils.set_seed(seed)\n",
    "\n",
    "cfg = yaml.load(open('config.yaml', 'rb'), Loader=yaml.FullLoader)"
   ]
  },
  {
   "cell_type": "code",
   "execution_count": 3,
   "id": "6e9fce85-33fd-49b0-aa17-88d925c2cf4a",
   "metadata": {},
   "outputs": [
    {
     "name": "stdout",
     "output_type": "stream",
     "text": [
      "First five filenames:  ['test-0001_nsd-00845.npy', 'test-0002_nsd-00946.npy', 'test-0003_nsd-01517.npy', 'test-0004_nsd-02655.npy', 'test-0005_nsd-02713.npy']\n",
      "Test mode, no labels path\n"
     ]
    },
    {
     "name": "stderr",
     "output_type": "stream",
     "text": [
      "Global seed set to 42\n",
      "/home/slava/.conda/envs/algonauts/lib/python3.9/site-packages/pytorch_lightning/utilities/parsing.py:196: UserWarning: Attribute 'loss_fn' is an instance of `nn.Module` and is already saved during checkpointing. It is recommended to ignore them using `self.save_hyperparameters(ignore=['loss_fn'])`.\n",
      "  rank_zero_warn(\n"
     ]
    }
   ],
   "source": [
    "subj_idx = 1\n",
    "side = 'right'\n",
    "device = \"cuda:0\"\n",
    "\n",
    "checkpoint_path = f\"/SSD/slava/algonauts/clip_sam_nn_training/fmri_mapping_subj0{subj_idx}_{side}_seed_{seed}/\"\n",
    "checkpoint_path = os.path.join(checkpoint_path, os.listdir(checkpoint_path)[0])\n",
    "\n",
    "full_dataset = Features_to_fMRI_Dataset(subj_idx=subj_idx, side=side, mode='test')\n",
    "\n",
    "# Define model\n",
    "model = MappingNetwork(\n",
    "    clip_dim=512,\n",
    "    sam_dim=1024,\n",
    "    out_dim=full_dataset.feat_dim\n",
    ")\n",
    "\n",
    "# Optimizers, etc.\n",
    "module = importlib.import_module(cfg[\"OPTIMIZER\"][\"MODULE\"])\n",
    "optimizer = getattr(module, cfg[\"OPTIMIZER\"][\"CLASS\"])(\n",
    "    model.parameters(), **cfg[\"OPTIMIZER\"][\"ARGS\"]\n",
    ")\n",
    "\n",
    "module = importlib.import_module(cfg[\"SCHEDULER\"][\"MODULE\"])\n",
    "scheduler = getattr(module, cfg[\"SCHEDULER\"][\"CLASS\"])(\n",
    "    optimizer, **cfg[\"SCHEDULER\"][\"ARGS\"])\n",
    "\n",
    "criterion = mse_cos_loss()\n",
    "\n",
    "cfg['SEED'] = seed\n",
    "cfg['OUTPUT_DIM'] = full_dataset.feat_dim\n",
    "\n",
    "lightning_model = VanillaTrainer.load_from_checkpoint(checkpoint_path,\n",
    "        model=model,\n",
    "        optimizer=optimizer,\n",
    "        scheduler=scheduler,\n",
    "        loss_fn=criterion,\n",
    "        config=cfg\n",
    ").to(device).eval()\n"
   ]
  },
  {
   "cell_type": "code",
   "execution_count": 4,
   "id": "a28b2cdc-14c0-4698-a1bc-70cbb75fac77",
   "metadata": {},
   "outputs": [
    {
     "name": "stderr",
     "output_type": "stream",
     "text": [
      "159it [00:00, 223.04it/s]\n"
     ]
    },
    {
     "data": {
      "text/plain": [
       "(159, 20544)"
      ]
     },
     "execution_count": 4,
     "metadata": {},
     "output_type": "execute_result"
    }
   ],
   "source": [
    "predictions = []\n",
    "\n",
    "for idx, (clip_img_feat, clip_txt_feat, sam_feat, filename) in tqdm(enumerate(full_dataset)):\n",
    "\n",
    "    # to ensure the order\n",
    "    assert idx+1 == int(filename.split('_')[0].split('-')[-1])\n",
    "\n",
    "    clip_img_feat = clip_img_feat.to(device).unsqueeze(0)\n",
    "    clip_txt_feat = clip_txt_feat.to(device).unsqueeze(0)\n",
    "    sam_feat = sam_feat.to(device).unsqueeze(0)\n",
    "\n",
    "    pred = lightning_model(clip_img_feat, clip_txt_feat, sam_feat)\n",
    "\n",
    "    pred = pred.squeeze().cpu().detach().numpy()\n",
    "    \n",
    "    assert not np.isnan(pred).any(), 'there is nan values'\n",
    "\n",
    "    predictions.append(pred)\n",
    "\n",
    "predictions = np.array(predictions)\n",
    "predictions.shape"
   ]
  },
  {
   "cell_type": "code",
   "execution_count": 6,
   "id": "32a86373-d6b8-4a93-b75a-db60032aee93",
   "metadata": {},
   "outputs": [
    {
     "name": "stdout",
     "output_type": "stream",
     "text": [
      "Saving into  /SSD/slava/algonauts/clip_sam_nn_submission/subj01/rh_pred_test.npy\n"
     ]
    }
   ],
   "source": [
    "save_name = f'/SSD/slava/algonauts/clip_sam_nn_submission/subj0{subj_idx}'\n",
    "\n",
    "if side=='right':\n",
    "    save_name = os.path.join(save_name, 'rh_pred_test.npy')\n",
    "elif side=='left':\n",
    "    save_name = os.path.join(save_name, 'lh_pred_test.npy')\n",
    "else:\n",
    "    raise NameError\n",
    "\n",
    "print('Saving into ', save_name)"
   ]
  },
  {
   "cell_type": "code",
   "execution_count": null,
   "id": "48dbdbfd-73d7-4c31-be42-0dc077d3cdb4",
   "metadata": {},
   "outputs": [],
   "source": []
  }
 ],
 "metadata": {
  "kernelspec": {
   "display_name": "Python 3 (ipykernel)",
   "language": "python",
   "name": "python3"
  },
  "language_info": {
   "codemirror_mode": {
    "name": "ipython",
    "version": 3
   },
   "file_extension": ".py",
   "mimetype": "text/x-python",
   "name": "python",
   "nbconvert_exporter": "python",
   "pygments_lexer": "ipython3",
   "version": "3.9.16"
  }
 },
 "nbformat": 4,
 "nbformat_minor": 5
}
